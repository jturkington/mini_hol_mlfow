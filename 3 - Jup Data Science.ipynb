{
 "cells": [
  {
   "cell_type": "markdown",
   "id": "98a9d845-03e6-41bc-8f4e-e17fb9dfc5d3",
   "metadata": {},
   "source": [
    "This code establishes a connection to Apache Spark by creating a SparkSession, which serves as the main entry point for working with Spark data.\n",
    "\n",
    "It names the application \"Laptop Anomaly Exploration\" and configures Spark to run locally using all available CPU cores.\n",
    "\n",
    "This setup enables efficient reading, processing, and analysis of data by leveraging Spark’s powerful distributed computing capabilities."
   ]
  },
  {
   "cell_type": "code",
   "execution_count": 1,
   "id": "359920a6-327e-448c-8794-81ab586876c5",
   "metadata": {},
   "outputs": [],
   "source": [
    "import os\n",
    "from pyspark.sql import SparkSession\n",
    "from pyspark.sql.types import *\n",
    "from pyspark.sql.functions import round\n",
    "\n",
    "# connect to Spark\n",
    "spark = SparkSession\\\n",
    "    .builder\\\n",
    "    .appName(\"Laptop Anomaly Exploration\")\\\n",
    "    .master(\"local[*]\") \\\n",
    "    .getOrCreate()\n",
    "\n",
    "DESTINATION_TABLE_NAME = os.getenv(\"DESTINATION_TABLE_NAME\")"
   ]
  },
  {
   "cell_type": "markdown",
   "id": "fc691f52-db86-4928-90d4-ea0e85947d26",
   "metadata": {},
   "source": [
    "This code runs a SQL query against a Spark-managed table named workshop.laptop_data_scored_user001, selecting all columns but limiting the result to 500 rows.\n",
    "\n",
    "It then immediately displays the first 30 rows of the query result in the notebook using Spark’s .show() method."
   ]
  },
  {
   "cell_type": "code",
   "execution_count": 2,
   "id": "e2813419-316e-441c-b7cf-110c1fe62891",
   "metadata": {},
   "outputs": [
    {
     "name": "stderr",
     "output_type": "stream",
     "text": [
      "Hive Session ID = 953a98cf-3717-434f-919f-b78a0c20a7dc\n",
      "[Stage 0:============================================>              (3 + 1) / 4]\r"
     ]
    },
    {
     "name": "stdout",
     "output_type": "stream",
     "text": [
      "+---------+-------------+-------------+-------------+--------------------+-------+\n",
      "|laptop_id|     latitude|    longitude|  temperature|            event_ts|anomaly|\n",
      "+---------+-------------+-------------+-------------+--------------------+-------+\n",
      "|       52|45.5132407738|8.44273287897|44.0175570885|2025-08-11 11:16:...|      1|\n",
      "|       62|44.5366194231|13.4211519302|44.0767862586|2025-08-11 11:16:...|      0|\n",
      "|       35|39.8118131785|8.02351029126|76.3252487082|2025-08-11 11:16:...|      1|\n",
      "|       43|41.8830444515|13.4106748818|40.7922398285|2025-08-11 11:16:...|      0|\n",
      "|       70|  38.55147109|14.2217904811|38.2967970328|2025-08-11 11:16:...|      0|\n",
      "|       73|44.9090322353|12.7536742864|21.3170432542|2025-08-11 11:16:...|      0|\n",
      "|       70|45.3675335648|8.72157049763|58.0998856614|2025-08-11 11:16:...|      0|\n",
      "|       35| 36.940783967|14.4645462827|16.4563777167|2025-08-11 11:16:...|      0|\n",
      "|       12|45.5375969795|10.7088092891| 16.188071642|2025-08-11 11:16:...|      0|\n",
      "|       96|39.5234685531|11.2522301014|51.5896576819|2025-08-11 11:16:...|      0|\n",
      "|       35|37.3087443603|11.1833479652|87.9732115286|2025-08-11 11:16:...|      0|\n",
      "|       54|38.2210886963|9.49814394967|68.6593633985|2025-08-11 11:16:...|      0|\n",
      "|        5|38.4200675569|11.2278608413|11.3806957079|2025-08-11 11:16:...|      0|\n",
      "|       87|36.1116587985| 15.441151828|35.5426838431|2025-08-11 11:16:...|      0|\n",
      "|        6|42.8205013309|15.7338388424|94.2874987073|2025-08-11 11:16:...|      0|\n",
      "|       50|39.9776960623|15.0695622548|17.8059711221|2025-08-11 11:16:...|      0|\n",
      "|       84|37.6151748149|8.30686024406|46.2946723609|2025-08-11 11:16:...|      0|\n",
      "|       15|42.2816837282|14.2861442041|20.2859248583|2025-08-11 11:16:...|      0|\n",
      "|       17|43.7980537819|13.3053666613| 41.405188395|2025-08-11 11:16:...|      0|\n",
      "|       72|40.2492178481|15.1844247085|61.7338768763|2025-08-11 11:16:...|      0|\n",
      "|       91|36.5003354557|10.8363660284|50.5195046951|2025-08-11 11:16:...|      0|\n",
      "|       15|38.3965937256| 10.488868567|66.5767067467|2025-08-11 11:16:...|      0|\n",
      "|        4|38.5480907352|13.7273120983|26.1747037216|2025-08-11 11:16:...|      0|\n",
      "|       27|36.7076145429|15.5977270505|76.6065381526|2025-08-11 11:16:...|      0|\n",
      "|        8|  40.24913015|11.2578994092|78.1353766804|2025-08-11 11:16:...|      0|\n",
      "|        9|42.7547871469|8.91491347966|49.5132050192|2025-08-11 11:16:...|      0|\n",
      "|       53|41.2182602082| 9.0374139725|34.7672214804|2025-08-11 11:16:...|      0|\n",
      "|        1|44.8722348486| 9.0808688935|31.4492444706|2025-08-11 11:16:...|      0|\n",
      "|       53|41.1478519841|14.2141137292|13.0434468654|2025-08-11 11:16:...|      0|\n",
      "|       41|36.7739220318|9.78545877763|10.7277195967|2025-08-11 11:16:...|      1|\n",
      "+---------+-------------+-------------+-------------+--------------------+-------+\n",
      "only showing top 30 rows\n",
      "\n"
     ]
    },
    {
     "name": "stderr",
     "output_type": "stream",
     "text": [
      "                                                                                \r"
     ]
    }
   ],
   "source": [
    "EXAMPLE_SQL_QUERY = f\"\"\"SELECT * FROM {DESTINATION_TABLE_NAME} limit 500\"\"\"\n",
    "df = spark.sql(EXAMPLE_SQL_QUERY)\n",
    "df.show(30)"
   ]
  },
  {
   "cell_type": "markdown",
   "id": "aeac0522-8714-4c71-af8f-33a7935d8832",
   "metadata": {},
   "source": [
    "Display only the Anomalies "
   ]
  },
  {
   "cell_type": "code",
   "execution_count": 3,
   "id": "cff0b471-4a17-41a0-84a1-c2982315d837",
   "metadata": {},
   "outputs": [
    {
     "name": "stderr",
     "output_type": "stream",
     "text": [
      "[Stage 3:============================================>              (3 + 1) / 4]\r"
     ]
    },
    {
     "name": "stdout",
     "output_type": "stream",
     "text": [
      "+---------+-------------+-------------+-------------+--------------------+-------+\n",
      "|laptop_id|     latitude|    longitude|  temperature|            event_ts|anomaly|\n",
      "+---------+-------------+-------------+-------------+--------------------+-------+\n",
      "|       52|45.5132407738|8.44273287897|44.0175570885|2025-08-11 11:16:...|      1|\n",
      "|       35|39.8118131785|8.02351029126|76.3252487082|2025-08-11 11:16:...|      1|\n",
      "|       41|36.7739220318|9.78545877763|10.7277195967|2025-08-11 11:16:...|      1|\n",
      "|       57|38.8875933915|14.2518176657|97.4357300271|2025-08-11 11:16:...|      1|\n",
      "|       38|37.7729586368| 10.462065982|99.9050933348|2025-08-11 11:16:...|      1|\n",
      "|       19|43.1137264171|14.4460541119| 99.946585563|2025-08-11 11:16:...|      1|\n",
      "|       18|43.9848272864|14.8845146632|10.1620359657|2025-08-11 11:16:...|      1|\n",
      "|        4|39.0358964701|8.93975750954|11.1261818984|2025-08-11 11:16:...|      1|\n",
      "|       18|36.0558823569|16.7873006296|93.3070666718|2025-08-11 11:16:...|      1|\n",
      "|       21|36.5044639297|16.9527953048|87.2708373687|2025-08-11 11:16:...|      1|\n",
      "|       20|  43.56795089|9.89171606323|11.0098928752|2025-08-11 11:16:...|      1|\n",
      "|       84|37.1531823499|9.10022485915|87.1738801732|2025-08-11 11:16:...|      1|\n",
      "|       11|45.5639712996|14.4879857216|93.8161305103|2025-08-11 11:16:...|      1|\n",
      "|       24|36.0325892533|8.30598235346| 37.202024987|2025-08-11 11:16:...|      1|\n",
      "|       81|44.3419789465|8.16819052832|56.5710681909|2025-08-11 11:16:...|      1|\n",
      "|       69|44.2518921796|8.73430013907|13.0050536848|2025-08-11 11:16:...|      1|\n",
      "|       15|43.3254897276|12.4015064443|97.8408232336|2025-08-11 11:16:...|      1|\n",
      "|       58|40.9837967718|16.9016471822|29.5654724393|2025-08-11 11:16:...|      1|\n",
      "|       25|42.1332022911| 8.0189815688|24.8406823947|2025-08-11 11:16:...|      1|\n",
      "|       63|43.6436857497|10.1033384553|98.1996155187|2025-08-11 11:16:...|      1|\n",
      "|       50|44.2171390551|10.0923856256|93.2853327842|2025-08-11 11:16:...|      1|\n",
      "|       74|40.4153655537|8.07181826572|88.8896793201|2025-08-11 11:16:...|      1|\n",
      "|        5| 43.386842308|8.13328282242|18.9772173816|2025-08-11 11:16:...|      1|\n",
      "|       24|37.6337556758|8.38660229523|97.1707530345|2025-08-11 11:16:...|      1|\n",
      "|       22| 37.016585057| 8.0722472045|37.2924628053|2025-08-11 11:16:...|      1|\n",
      "|       13|38.3508227781|12.3504186776|96.7701661444|2025-08-11 11:16:...|      1|\n",
      "|        3|41.2673998765|9.35670519232|98.0896357954|2025-08-11 11:16:...|      1|\n",
      "|       53|38.6837074096|8.96158411093|99.5474322081|2025-08-11 11:16:...|      1|\n",
      "|       96|40.6411752761|16.5617491848|99.9069134358|2025-08-11 11:16:...|      1|\n",
      "|       73|44.3075071734|8.27275715682|76.7186102094|2025-08-11 11:16:...|      1|\n",
      "+---------+-------------+-------------+-------------+--------------------+-------+\n",
      "only showing top 30 rows\n",
      "\n"
     ]
    },
    {
     "name": "stderr",
     "output_type": "stream",
     "text": [
      "                                                                                \r"
     ]
    }
   ],
   "source": [
    "anomalies_df = df.filter(df.anomaly == 1)\n",
    "anomalies_df.show(30)"
   ]
  },
  {
   "cell_type": "markdown",
   "id": "34d1e3fd-2c9a-4879-b819-ce40a01d3763",
   "metadata": {},
   "source": [
    "In this analysis, we use Apache Spark to identify geographic hotspots of laptop temperature anomalies. By rounding the latitude and longitude coordinates to create a location grid, we group anomalous data points within these grid cells. We then count the number of anomalies in each cell to highlight areas where unusually high or low laptop temperatures frequently occur. This aggregated view helps reveal patterns or clusters of potential hardware or environmental issues across different regions. Finally, by converting the results to a Pandas DataFrame, we visualize these hotspots on a scatter plot, where the size of each point corresponds to the number of anomalies in that area. This approach leverages Spark’s powerful data processing and enables effective exploration and monitoring of anomalies at scale."
   ]
  },
  {
   "cell_type": "code",
   "execution_count": 4,
   "id": "59886a3e-ed26-49ad-b435-807e544a7dc3",
   "metadata": {},
   "outputs": [
    {
     "name": "stderr",
     "output_type": "stream",
     "text": [
      "                                                                                \r"
     ]
    },
    {
     "data": {
      "image/png": "[encoded data removed]",
      "text/plain": [
       "<Figure size 640x480 with 1 Axes>"
      ]
     },
     "metadata": {},
     "output_type": "display_data"
    }
   ],
   "source": [
    "import matplotlib.pyplot as plt\n",
    "\n",
    "df_grid = df.withColumn(\"lat_grid\", round(\"latitude\", 1)) \\\n",
    "            .withColumn(\"lon_grid\", round(\"longitude\", 1))\n",
    "\n",
    "\n",
    "anomaly_counts = df_grid.filter(df_grid.anomaly == 1) \\\n",
    "                       .groupBy(\"lat_grid\", \"lon_grid\") \\\n",
    "                       .count() \\\n",
    "                       .orderBy(\"count\", ascending=False)\n",
    "\n",
    "\n",
    "\n",
    "pdf = anomaly_counts.toPandas()\n",
    "\n",
    "plt.scatter(pdf['lon_grid'], pdf['lat_grid'], s=pdf['count']*20, alpha=0.6)\n",
    "plt.xlabel(\"Longitude (rounded)\")\n",
    "plt.ylabel(\"Latitude (rounded)\")\n",
    "plt.title(\"Anomaly Hotspots by Location\")\n",
    "plt.show()\n"
   ]
  }
 ],
 "metadata": {
  "kernelspec": {
   "display_name": "Python 3 (ipykernel)",
   "language": "python",
   "name": "python3"
  },
  "language_info": {
   "codemirror_mode": {
    "name": "ipython",
    "version": 3
   },
   "file_extension": ".py",
   "mimetype": "text/x-python",
   "name": "python",
   "nbconvert_exporter": "python",
   "pygments_lexer": "ipython3",
   "version": "3.10.17"
  }
 },
 "nbformat": 4,
 "nbformat_minor": 5
}
