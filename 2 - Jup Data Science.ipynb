{
 "cells": [
  {
   "cell_type": "markdown",
   "id": "98a9d845-03e6-41bc-8f4e-e17fb9dfc5d3",
   "metadata": {},
   "source": [
    "This code establishes a connection to Apache Spark by creating a SparkSession, which serves as the main entry point for working with Spark data.\n",
    "\n",
    "It names the application \"Laptop Anomaly Exploration\" and configures Spark to run locally using all available CPU cores.\n",
    "\n",
    "This setup enables efficient reading, processing, and analysis of data by leveraging Spark’s powerful distributed computing capabilities."
   ]
  },
  {
   "cell_type": "code",
   "execution_count": 5,
   "id": "359920a6-327e-448c-8794-81ab586876c5",
   "metadata": {},
   "outputs": [],
   "source": [
    "import os\n",
    "from pyspark.sql import SparkSession\n",
    "from pyspark.sql.types import *\n",
    "from pyspark.sql.functions import round\n",
    "\n",
    "# connect to Spark\n",
    "spark = SparkSession\\\n",
    "    .builder\\\n",
    "    .appName(\"Laptop Anomaly Exploration\")\\\n",
    "    .master(\"local[*]\") \\\n",
    "    .getOrCreate()"
   ]
  },
  {
   "cell_type": "markdown",
   "id": "fc691f52-db86-4928-90d4-ea0e85947d26",
   "metadata": {},
   "source": [
    "This code runs a SQL query against a Spark-managed table named workshop.laptop_data_scored_user001, selecting all columns but limiting the result to 500 rows.\n",
    "\n",
    "It then immediately displays the first 30 rows of the query result in the notebook using Spark’s .show() method."
   ]
  },
  {
   "cell_type": "code",
   "execution_count": 2,
   "id": "e2813419-316e-441c-b7cf-110c1fe62891",
   "metadata": {},
   "outputs": [
    {
     "name": "stderr",
     "output_type": "stream",
     "text": [
      "Hive Session ID = 2101dfaf-2c17-4ab1-b113-e10be43406fc\n",
      "[Stage 0:=============================>                             (1 + 1) / 2]\r"
     ]
    },
    {
     "name": "stdout",
     "output_type": "stream",
     "text": [
      "+---------+-------------+-------------+-------------+--------------------+-------+\n",
      "|laptop_id|     latitude|    longitude|  temperature|            event_ts|anomaly|\n",
      "+---------+-------------+-------------+-------------+--------------------+-------+\n",
      "|       94|44.0204015177|12.2161323199|48.1630819428|2025-08-11 12:50:...|      0|\n",
      "|       38|38.7495422551|9.04318666664|44.9937956477|2025-08-11 12:50:...|      0|\n",
      "|       26|41.3733280767|16.3997761068|71.9189388459|2025-08-11 12:50:...|      0|\n",
      "|       32|38.1776104107|11.6740690634|82.7245776135|2025-08-11 12:50:...|      0|\n",
      "|       27|45.5183560318|9.64352565124|85.5053976708|2025-08-11 12:50:...|      0|\n",
      "|       79|45.8718800439|11.9607649283|71.0335944413|2025-08-11 12:50:...|      0|\n",
      "|       89|41.3197727723| 13.749112918|14.1044385284|2025-08-11 12:50:...|      0|\n",
      "|       57|36.8513304583| 13.483611388|42.4288375165|2025-08-11 12:50:...|      0|\n",
      "|       51|38.3663038348|   10.5832698|80.1432138273|2025-08-11 12:50:...|      0|\n",
      "|       19|42.7607766729|13.3903409847| 95.507001098|2025-08-11 12:50:...|      0|\n",
      "|       73|39.9789863307|10.4624020535|34.8580731122|2025-08-11 12:50:...|      0|\n",
      "|       34|39.4138995482|13.3530215362|77.3964228374|2025-08-11 12:50:...|      0|\n",
      "|       13|45.5393554082|11.3067946903|67.8664005721|2025-08-11 12:50:...|      0|\n",
      "|       67| 40.156588073|13.5445268679|66.7078230543|2025-08-11 12:50:...|      0|\n",
      "|       62|41.1379422236|15.0643483249|19.7462675662|2025-08-11 12:50:...|      0|\n",
      "|       26|40.0505934758|12.1345389851|81.9928632201|2025-08-11 12:50:...|      0|\n",
      "|       78|43.5430854696| 15.903847315|92.6238931259|2025-08-11 12:50:...|      0|\n",
      "|       53|45.8774975836|14.8050817872|50.7105159381|2025-08-11 12:50:...|      0|\n",
      "|       84|  42.49005471|9.67775878903|43.7689241681|2025-08-11 12:50:...|      0|\n",
      "|       85|36.9629917378|13.7855856188|83.7012467565|2025-08-11 12:50:...|      0|\n",
      "|       63|36.2904861543|11.1545626629|57.1975189902|2025-08-11 12:50:...|      0|\n",
      "|       48|41.8214694369|12.9074830947|20.1690101592|2025-08-11 12:50:...|      0|\n",
      "|       13|45.7621317288|11.5206136168|98.2832524895|2025-08-11 12:50:...|      1|\n",
      "|       35|45.6209311005|13.1783363658|88.1710540373|2025-08-11 12:50:...|      0|\n",
      "|        5|41.4789198426|15.6515335907|46.3758273453|2025-08-11 12:50:...|      0|\n",
      "|        6|43.4682012926|8.37549585903|25.6155410206|2025-08-11 12:50:...|      0|\n",
      "|       95|39.3413286302|10.6531361074|20.4276002199|2025-08-11 12:50:...|      0|\n",
      "|       77|44.5144585153|13.1592895197|36.7669803006|2025-08-11 12:50:...|      0|\n",
      "|       46|39.4670725283|14.1718813142|42.6279192875|2025-08-11 12:50:...|      0|\n",
      "|       34| 41.881077684|11.2057439311|29.2594743033|2025-08-11 12:50:...|      0|\n",
      "+---------+-------------+-------------+-------------+--------------------+-------+\n",
      "only showing top 30 rows\n",
      "\n"
     ]
    },
    {
     "name": "stderr",
     "output_type": "stream",
     "text": [
      "                                                                                \r"
     ]
    }
   ],
   "source": [
    "EXAMPLE_SQL_QUERY = \"SELECT * FROM workshop.laptop_data_scored_user001 limit 500\"\n",
    "df = spark.sql(EXAMPLE_SQL_QUERY)\n",
    "df.show(30)"
   ]
  },
  {
   "cell_type": "markdown",
   "id": "aeac0522-8714-4c71-af8f-33a7935d8832",
   "metadata": {},
   "source": [
    "Display only the Anomalies "
   ]
  },
  {
   "cell_type": "code",
   "execution_count": 3,
   "id": "cff0b471-4a17-41a0-84a1-c2982315d837",
   "metadata": {},
   "outputs": [
    {
     "name": "stderr",
     "output_type": "stream",
     "text": [
      "[Stage 3:>                                                          (0 + 2) / 2]\r"
     ]
    },
    {
     "name": "stdout",
     "output_type": "stream",
     "text": [
      "+---------+-------------+-------------+-------------+--------------------+-------+\n",
      "|laptop_id|     latitude|    longitude|  temperature|            event_ts|anomaly|\n",
      "+---------+-------------+-------------+-------------+--------------------+-------+\n",
      "|       13|45.7621317288|11.5206136168|98.2832524895|2025-08-11 12:50:...|      1|\n",
      "|       70|43.3713118876|8.03887356288|17.9872967321|2025-08-11 12:50:...|      1|\n",
      "|       78|39.5641555405|16.2703807027|16.0185806662|2025-08-11 12:50:...|      1|\n",
      "|       40|44.9885254424|16.8927225118|30.2309619624|2025-08-11 12:50:...|      1|\n",
      "|       58|36.1417383266|9.46505680737|35.4771945739|2025-08-11 12:50:...|      1|\n",
      "|        3|45.9647062867|16.0153227233|89.9041984055|2025-08-11 12:50:...|      1|\n",
      "|       51|36.0025148278|12.6469091568|83.0269004051|2025-08-11 12:50:...|      1|\n",
      "|       30|43.3325321861|8.02782665587|99.6228085044|2025-08-11 12:50:...|      1|\n",
      "|       26|45.9974927074|13.5477691867|87.4216942644|2025-08-11 12:50:...|      1|\n",
      "|       11|45.0742225394|16.6213959257|90.7440376413|2025-08-11 12:50:...|      1|\n",
      "|       62|37.2156768007|16.6869105398|73.6327507072|2025-08-11 12:50:...|      1|\n",
      "|       85|37.1629260998|16.7871746166|38.1264524381|2025-08-11 12:50:...|      1|\n",
      "|       26|36.4353406294|16.1524542985|93.7990747514|2025-08-11 12:50:...|      1|\n",
      "|       95|38.8249405634|15.2155928492|99.1779598625|2025-08-11 12:50:...|      1|\n",
      "|       13|44.4502269636|16.0137711512|98.9896452199|2025-08-11 12:50:...|      1|\n",
      "|       65|36.1445891349|10.2577102009|77.6368199332|2025-08-11 12:50:...|      1|\n",
      "|       85|39.1895329745|16.3151131809|94.2765665532|2025-08-11 12:50:...|      1|\n",
      "|       96|36.2209086448|15.6124312677|86.6316298753|2025-08-11 12:50:...|      1|\n",
      "|       35|36.3868004925|10.6148418747|10.8301876865|2025-08-11 12:50:...|      1|\n",
      "|       13|45.8076975967|10.1623422072|97.5927827112|2025-08-11 12:50:...|      1|\n",
      "|       19|38.7332447416|16.8248398442|78.8827831483|2025-08-11 12:50:...|      1|\n",
      "|       30|36.3782018862|8.70743790371|88.3414343684|2025-08-11 12:50:...|      1|\n",
      "|       96|40.0646407132|16.2951176163|88.3178550178|2025-08-11 12:50:...|      1|\n",
      "|       11|45.8363567444|8.10210619673|74.0718021744|2025-08-11 12:50:...|      1|\n",
      "|       55|41.2827196423|8.23755256243| 97.732024047|2025-08-11 12:50:...|      1|\n",
      "|        7|45.8302165413|8.12258065987|55.4894021283|2025-08-11 12:50:...|      1|\n",
      "|       79|45.4540472348|15.8120132527|99.2434208582|2025-08-11 12:50:...|      1|\n",
      "|       32|44.2122596104|16.3236579034|11.3044744156|2025-08-11 12:50:...|      1|\n",
      "|       74|45.8167827407|8.66447616308|90.3705764683|2025-08-11 12:50:...|      1|\n",
      "|       50|37.3804792409|16.5901094756|52.0899660613|2025-08-11 12:50:...|      1|\n",
      "+---------+-------------+-------------+-------------+--------------------+-------+\n",
      "only showing top 30 rows\n",
      "\n"
     ]
    },
    {
     "name": "stderr",
     "output_type": "stream",
     "text": [
      "                                                                                \r"
     ]
    }
   ],
   "source": [
    "anomalies_df = df.filter(df.anomaly == 1)\n",
    "anomalies_df.show(30)"
   ]
  },
  {
   "cell_type": "markdown",
   "id": "34d1e3fd-2c9a-4879-b819-ce40a01d3763",
   "metadata": {},
   "source": [
    "In this analysis, we use Apache Spark to identify geographic hotspots of laptop temperature anomalies. By rounding the latitude and longitude coordinates to create a location grid, we group anomalous data points within these grid cells. We then count the number of anomalies in each cell to highlight areas where unusually high or low laptop temperatures frequently occur. This aggregated view helps reveal patterns or clusters of potential hardware or environmental issues across different regions. Finally, by converting the results to a Pandas DataFrame, we visualize these hotspots on a scatter plot, where the size of each point corresponds to the number of anomalies in that area. This approach leverages Spark’s powerful data processing and enables effective exploration and monitoring of anomalies at scale."
   ]
  },
  {
   "cell_type": "code",
   "execution_count": 6,
   "id": "59886a3e-ed26-49ad-b435-807e544a7dc3",
   "metadata": {},
   "outputs": [
    {
     "name": "stderr",
     "output_type": "stream",
     "text": [
      "                                                                                \r"
     ]
    },
    {
     "data": {
      "image/png": "[encoded data removed]",
      "text/plain": [
       "<Figure size 640x480 with 1 Axes>"
      ]
     },
     "metadata": {},
     "output_type": "display_data"
    }
   ],
   "source": [
    "import matplotlib.pyplot as plt\n",
    "\n",
    "df_grid = df.withColumn(\"lat_grid\", round(\"latitude\", 1)) \\\n",
    "            .withColumn(\"lon_grid\", round(\"longitude\", 1))\n",
    "\n",
    "\n",
    "anomaly_counts = df_grid.filter(df_grid.anomaly == 1) \\\n",
    "                       .groupBy(\"lat_grid\", \"lon_grid\") \\\n",
    "                       .count() \\\n",
    "                       .orderBy(\"count\", ascending=False)\n",
    "\n",
    "\n",
    "\n",
    "pdf = anomaly_counts.toPandas()\n",
    "\n",
    "plt.scatter(pdf['lon_grid'], pdf['lat_grid'], s=pdf['count']*20, alpha=0.6)\n",
    "plt.xlabel(\"Longitude (rounded)\")\n",
    "plt.ylabel(\"Latitude (rounded)\")\n",
    "plt.title(\"Anomaly Hotspots by Location\")\n",
    "plt.show()\n"
   ]
  },
  {
   "cell_type": "code",
   "execution_count": 8,
   "id": "b62a6a5e-37a7-4e38-bac0-69366fe76305",
   "metadata": {},
   "outputs": [
    {
     "ename": "AttributeError",
     "evalue": "module 'geodatasets' has no attribute 'load_dataset'",
     "output_type": "error",
     "traceback": [
      "\u001b[0;31m---------------------------------------------------------------------------\u001b[0m",
      "\u001b[0;31mAttributeError\u001b[0m                            Traceback (most recent call last)",
      "Cell \u001b[0;32mIn[8], line 3\u001b[0m\n\u001b[1;32m      1\u001b[0m \u001b[38;5;28;01mimport\u001b[39;00m \u001b[38;5;21;01mgeodatasets\u001b[39;00m\n\u001b[0;32m----> 3\u001b[0m world \u001b[38;5;241m=\u001b[39m \u001b[43mgeodatasets\u001b[49m\u001b[38;5;241;43m.\u001b[39;49m\u001b[43mload_dataset\u001b[49m(\u001b[38;5;124m\"\u001b[39m\u001b[38;5;124mnaturalearth_lowres\u001b[39m\u001b[38;5;124m\"\u001b[39m)\n\u001b[1;32m      5\u001b[0m \u001b[38;5;28;01mimport\u001b[39;00m \u001b[38;5;21;01mgeopandas\u001b[39;00m \u001b[38;5;28;01mas\u001b[39;00m \u001b[38;5;21;01mgpd\u001b[39;00m\n\u001b[1;32m      6\u001b[0m \u001b[38;5;28;01mimport\u001b[39;00m \u001b[38;5;21;01mgeodatasets\u001b[39;00m\n",
      "\u001b[0;31mAttributeError\u001b[0m: module 'geodatasets' has no attribute 'load_dataset'"
     ]
    }
   ],
   "source": [
    "import geopandas as gpd\n",
    "import geodatasets\n",
    "import matplotlib.pyplot as plt\n",
    "from shapely.geometry import Point\n",
    "\n",
    "# Convert Pandas DataFrame to GeoDataFrame with Point geometry\n",
    "geometry = [Point(xy) for xy in zip(pdf['lon_grid'], pdf['lat_grid'])]\n",
    "geo_df = gpd.GeoDataFrame(pdf, geometry=geometry)\n",
    "\n",
    "# Load world map dataset\n",
    "world = geodatasets.load_dataset(\"naturalearth_lowres\")\n",
    "\n",
    "# Plot the base world map\n",
    "ax = world.plot(figsize=(15, 10), color='lightgrey', edgecolor='white')\n",
    "\n",
    "# Plot anomalies on top, sizing markers by count\n",
    "geo_df.plot(ax=ax,\n",
    "            markersize=geo_df['count'] * 20,\n",
    "            color='red',\n",
    "            alpha=0.6,\n",
    "            marker='o',\n",
    "            label='Anomalies')\n",
    "\n",
    "plt.title(\"Anomaly Hotspots by Location on World Map\")\n",
    "plt.xlabel(\"Longitude\")\n",
    "plt.ylabel(\"Latitude\")\n",
    "plt.legend()\n",
    "plt.show()\n"
   ]
  },
  {
   "cell_type": "code",
   "execution_count": null,
   "id": "f61378ed-4ed3-4fb4-a44c-ec9226c37c75",
   "metadata": {},
   "outputs": [],
   "source": []
  }
 ],
 "metadata": {
  "kernelspec": {
   "display_name": "Python 3 (ipykernel)",
   "language": "python",
   "name": "python3"
  },
  "language_info": {
   "codemirror_mode": {
    "name": "ipython",
    "version": 3
   },
   "file_extension": ".py",
   "mimetype": "text/x-python",
   "name": "python",
   "nbconvert_exporter": "python",
   "pygments_lexer": "ipython3",
   "version": "3.10.17"
  }
 },
 "nbformat": 4,
 "nbformat_minor": 5
}
